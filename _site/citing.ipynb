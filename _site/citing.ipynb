{
  "cells": [
    {
      "cell_type": "markdown",
      "metadata": {},
      "source": [
        "# Citing\n",
        "\n",
        "Well, what is even here to cite? Hopefully in the future."
      ],
      "id": "e7655aa7-4b56-4bd1-9491-a8a015e170e4"
    }
  ],
  "nbformat": 4,
  "nbformat_minor": 5,
  "metadata": {
    "kernelspec": {
      "display_name": "Python 3",
      "language": "python",
      "name": "python3"
    }
  }
}