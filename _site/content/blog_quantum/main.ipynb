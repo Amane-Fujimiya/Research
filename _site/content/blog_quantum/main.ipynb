{
  "cells": [
    {
      "cell_type": "markdown",
      "metadata": {},
      "source": [
        "# The quantum mechanical blog\n",
        "\n",
        "This is the main form of the blog format that I will use for handling\n",
        "different outlook and outcomes etc about the topic itself. The main lead\n",
        "of this blog is one of my senior (please provide me with professional\n",
        "linking for you please), a classmate in college of mine, and indeed,\n",
        "myself. The sheet planning is [this\n",
        "sheet](https://docs.google.com/spreadsheets/d/1rkT5r5JMc_Kwekp8VZGqlh9Tk6ibc9qIbDP7xQyi6fg/edit?usp=sharing),\n",
        "and hence other contents are also presented. The main repository for\n",
        "this blog is [still here](https://github.com/Amane-Fujimiya/Research),\n",
        "though the path to this particular site would be:\n",
        "\n",
        "``` powershell\n",
        "cd /content/blog_quantum/main.qmd\n",
        "cd /content/blog_quamtum/posts/**.qmd\n",
        "```\n",
        "\n",
        "or any `**.qmd` in particular of the folder. Add file to `/posts` folder\n",
        "then will list it in this particular page. There exists two formats for\n",
        "this blog post. One is the `pdf` format, which is usually of $\\LaTeX$\n",
        "format itself, hence a document. The other one is blog post, which is\n",
        "reserved and organized in `/posts` folder, as you can see. Every `.qmd`\n",
        "file of blog post in such folder is recommended (and thoughtfully so) to\n",
        "have the following as the preamble.\n",
        "\n",
        "``` yaml\n",
        "layout: default\n",
        "title: The quantum mechanical blog\n",
        "```\n",
        "\n",
        "as per minimum required. Further information and metadata customization\n",
        "of local file can be founded on [Quarto official\n",
        "documentation](https://quarto.org/docs/guide/). To modify the blog, you\n",
        "require `git` for operations, and hence `github` for updates. This goes\n",
        "without saying, nonetheless. If you want in-display `pdf`, please create\n",
        "a blog post on itself, and then\n",
        "\n",
        "``` markdown\n",
        "![title of the document](link to the document - can be either hyperlink or file link)\n",
        "```\n",
        "\n",
        "as required. For now, good luck."
      ],
      "id": "e50b91ee-3bd2-42a0-91a5-bdcbe484d70c"
    }
  ],
  "nbformat": 4,
  "nbformat_minor": 5,
  "metadata": {
    "kernelspec": {
      "display_name": "Python 3",
      "language": "python",
      "name": "python3"
    }
  }
}