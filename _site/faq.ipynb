{
  "cells": [
    {
      "cell_type": "markdown",
      "metadata": {},
      "source": [
        "# FAQ\n",
        "\n",
        "Are there even anything to say?"
      ],
      "id": "d62acf4e-b7fd-4fe2-84af-9c9b7fe79550"
    }
  ],
  "nbformat": 4,
  "nbformat_minor": 5,
  "metadata": {
    "kernelspec": {
      "display_name": "Python 3",
      "language": "python",
      "name": "python3"
    }
  }
}