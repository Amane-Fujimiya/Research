{
  "cells": [
    {
      "cell_type": "markdown",
      "metadata": {},
      "source": [
        "# FAQ\n",
        "\n",
        "Are there even anything to say? I mean yes, but yeah, generaly, it is\n",
        "not rigorous enough to warrant a direct affiliation toward what to ask,\n",
        "even."
      ],
      "id": "d6927248-0dd6-4ee2-b404-bba5f0510447"
    }
  ],
  "nbformat": 4,
  "nbformat_minor": 5,
  "metadata": {
    "kernelspec": {
      "display_name": "Python 3",
      "language": "python",
      "name": "python3"
    }
  }
}