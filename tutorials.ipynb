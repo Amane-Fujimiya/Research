{
  "cells": [
    {
      "cell_type": "markdown",
      "metadata": {},
      "source": [
        "# Tutorials\n",
        "\n",
        "We provide an extensive set of tutorials to get familiar with devito’s\n",
        "internals, capabilities and use cases. In details we offer the following\n",
        "topics:\n",
        "\n",
        "-   [User API](examples/userapi/00_sympy.html) contains API description\n",
        "    notebooks to get started with Devito.\n",
        "-   [Compiler](examples/compiler/00_index.html) introduces the compiler\n",
        "    and the internal representation used to lower the symbolic\n",
        "    expression to high performance code.\n",
        "-   [Performance tips](examples/performance/00_overview.html) introduce\n",
        "    the performance optimization knobs exposed to the users.\n",
        "-   [Seismic modeling and\n",
        "    inversion](examples/seismic/tutorials/01_modelling.html) contains a\n",
        "    broad set of notebooks that implements various wave equations for\n",
        "    modeling and inversion.\n",
        "-   [CFD](examples/cfd/01_convection.html) offers a full rendering of\n",
        "    the original `CFD Python: 12 steps to Navier-Stokes` by Lorena Barba\n",
        "    using Devito.\n",
        "-   [Finance](examples/finance/bs_ivbp.html) contains an introductory\n",
        "    notebook using Devito to model the Black-Scholes equations.\n",
        "\n",
        "All those notebooks can be interactively explored in our\n",
        "[binder](https://mybinder.org/v2/gh/devitocodes/devito/master) server as\n",
        "well."
      ],
      "id": "ca7e34ea-87e0-409e-ab22-1bd0c5aab550"
    }
  ],
  "nbformat": 4,
  "nbformat_minor": 5,
  "metadata": {
    "kernelspec": {
      "display_name": "Python 3",
      "language": "python",
      "name": "python3"
    }
  }
}