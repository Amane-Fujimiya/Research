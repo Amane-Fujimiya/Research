{
  "cells": [
    {
      "cell_type": "markdown",
      "metadata": {},
      "source": [
        "# Contact\n",
        "\n",
        "This website is just the front of the research effort. For information\n",
        "regarding me, please refer to [this\n",
        "website](https://amane-fujimiya.github.io/), where both my personal blog\n",
        "and CV site can be found."
      ],
      "id": "4b271752-9733-4f97-97b1-cdf0915c2724"
    }
  ],
  "nbformat": 4,
  "nbformat_minor": 5,
  "metadata": {
    "kernelspec": {
      "display_name": "Python 3",
      "language": "python",
      "name": "python3"
    }
  }
}