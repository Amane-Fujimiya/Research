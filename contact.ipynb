{
  "cells": [
    {
      "cell_type": "markdown",
      "metadata": {},
      "source": [
        "# Contact\n",
        "\n",
        "This website is just the front of the research effort. For information\n",
        "regarding me, please refer to [this\n",
        "website](https://amane-fujimiya.github.io/), where both my personal blog\n",
        "and CV site can be found."
      ],
      "id": "f1ae7108-7449-400c-8b43-931a01819bac"
    }
  ],
  "nbformat": 4,
  "nbformat_minor": 5,
  "metadata": {
    "kernelspec": {
      "display_name": "Python 3",
      "language": "python",
      "name": "python3"
    }
  }
}