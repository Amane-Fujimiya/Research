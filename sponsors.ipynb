{
  "cells": [
    {
      "cell_type": "markdown",
      "metadata": {},
      "source": [
        "# Sponsors\n",
        "\n",
        "We gratefully acknowledge the support received to develop Devito from\n",
        "industry and research council funding.\n",
        "\n",
        "### Open source Devito consortium\n",
        "\n",
        "This was a 3-year consortium that ran from January 2020-December 2022.\n",
        "The consortium is now closed. Please see <https://www.devitocodes.com/>\n",
        "and contact details therein if you are interested in using Devito\n",
        "commercially. Consortium members are:\n",
        "\n",
        "-   BP\n",
        "-   DUG\n",
        "-   Petrobras\n",
        "-   Shell\n",
        "\n",
        "### Other industry sponsors\n",
        "\n",
        "-   AMD\n",
        "-   Chevron\n",
        "-   Fujitsu\n",
        "-   Intel\n",
        "-   Microsoft\n",
        "-   Nvidia\n",
        "\n",
        "### Research Council grants\n",
        "\n",
        "-   [EP/W007789/1](https://gow.epsrc.ukri.org/NGBOViewGrant.aspx?GrantRef=EP/W007940/1)\n",
        "-   [EP/V001493/1](https://gow.epsrc.ukri.org/NGBOViewGrant.aspx?GrantRef=EP/V001493/1)\n",
        "-   [EP/R029423/1](https://gow.epsrc.ukri.org/NGBOViewGrant.aspx?GrantRef=EP/R029423/1)\n",
        "\n",
        "### Devito Codes Ltd.\n",
        "\n",
        "Devito is also supported directly by [Devito Codes\n",
        "Ltd](https://www.devitocodes.com/). Devito Codes Ltd uses an open-core\n",
        "business model to provide commercial services while reinvesting in\n",
        "Devito’s open-source development, support, and maintenance."
      ],
      "id": "825126b4-c070-4203-9cf0-9b73c8c0b4a5"
    }
  ],
  "nbformat": 4,
  "nbformat_minor": 5,
  "metadata": {
    "kernelspec": {
      "display_name": "Python 3",
      "language": "python",
      "name": "python3"
    }
  }
}