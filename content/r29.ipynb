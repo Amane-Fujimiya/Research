{
  "cells": [
    {
      "cell_type": "markdown",
      "metadata": {},
      "source": [
        "# \n",
        "\n",
        "The research on this site is of **the Theory of Raman Spectroscopy**.\n",
        "Participant in such regard is [Duong Ngoc\n",
        "Khoa](https://www.linkedin.com/in/duong-khoa-a77592378/) and Yogesh\n",
        "Verma (a particular person we met during previous ASC 2025). The sheet\n",
        "for organization is [this\n",
        "one](https://docs.google.com/spreadsheets/d/14don5MGLX5CL_e5oIRB2I7fQZSY7DnCQzyp1um-YCOs/edit?usp=sharing).\n",
        "`Github` site will be delivered together in the long term.\n",
        "\n",
        "## Planning\n",
        "\n",
        "It is then we have to elaborate on explaining what we are going to do\n",
        "within the confinement of the topic by itself. Originally, the idea\n",
        "comes from [my own blog\n",
        "documentation](https://amane-fujimiya.github.io/essays/posts/essay_1_raman.html)\n",
        "over here of the same expository analysis toward Raman Spectroscopy. So\n",
        "most of them will be there, and it will not be so particularly hard to\n",
        "figure out what to do in such research. The goal of the research,\n",
        "nevertheless, is to gain a *comprehensive framework and outlook* toward\n",
        "the problem of Raman spectroscopy, what theories support and explain it\n",
        "in what way, caveat, concepts that is used in analysing Raman\n",
        "spectroscopy, what type of differences between classical and quantum\n",
        "mechanical treatments in vibrational infrared range, and so on so forth.\n",
        "This all stems from the hardship in delivering and targeting the problem\n",
        "itself during the process of writing that essay, so to speak."
      ],
      "id": "b1605edf-87b2-4ee5-b2df-b67f8b6ee322"
    }
  ],
  "nbformat": 4,
  "nbformat_minor": 5,
  "metadata": {
    "kernelspec": {
      "display_name": "Python 3",
      "language": "python",
      "name": "python3"
    }
  }
}