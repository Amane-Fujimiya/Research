{
  "cells": [
    {
      "cell_type": "markdown",
      "metadata": {},
      "source": [
        "# The Research Companionship\n",
        "\n",
        "Here we are, organization of the research base. For now, this site is\n",
        "hosted and structured on the provision and purposes of 藤宮天音, or Bui\n",
        "Gia Khanh, of [here](https://amane-fujimiya.github.io/), or it is just\n",
        "me. There should be not much going on here, however, you might as well\n",
        "treat it as my very own hub of operation at large, in public, for\n",
        "research, collaborations, et cetera. Also, I hate coding, so I will need\n",
        "something in here… quick. The template for this site is basically,\n",
        "[devitoproject.org](devitoproject.org), of which I take for certain\n",
        "specification.\n",
        "\n",
        "Most of the content here right now are proposals, ideas, and research\n",
        "problems that I took virtue to describe and partake upon. Individual\n",
        "articles are set up here for reference purpose as to describe the\n",
        "research topic at large. For project, documentation purposes fit them\n",
        "neatly in such realm, and for documentation on various topics, we\n",
        "delegate such description to their own due.\n",
        "\n",
        "## Current topics\n",
        "\n",
        "My current topic of interest includes:\n",
        "\n",
        "1.  Computational learning theory and statistical learning theory.\n",
        "2.  Deep neural network theoretical explanation.\n",
        "3.  Foundation of machine learning research.\n",
        "4.  Foundation of physics.\n",
        "5.  Raman spectroscopy and deep learning application.\n",
        "6.  Neurology and computational models of neurophysiology.\n",
        "7.  Quantum mechanics and quantum well (of semiconductor device\n",
        "    structures).\n",
        "\n",
        "Most of them are theoretical, some are practical in the sense of model\n",
        "evaluation and thereof. Generally, I am fairly bad of practical\n",
        "application, though that is a front to improve upon. I am also\n",
        "interested in mathematics, including the theory of probability, category\n",
        "theory. Some of the potential topics then also includes *theoretical\n",
        "computational model*, *type theory*, and theoretical mathematical\n",
        "modelling.\n",
        "\n",
        "## Current collaborator\n",
        "\n",
        "Right, now my collaborators are [Daud\n",
        "Shahbaz](https://www.linkedin.com/in/daudshahbaz/), [Duong Ngoc\n",
        "Khoa](https://www.linkedin.com/in/duong-khoa-a77592378/), and a few more\n",
        "people. If you want to collaborate, please look into the\n",
        "[catalogue](publications.qmd) for some of my proposals and already in\n",
        "progress works."
      ],
      "id": "2fdf0f85-2d12-4e48-8e01-5b3aa3280ccd"
    }
  ],
  "nbformat": 4,
  "nbformat_minor": 5,
  "metadata": {
    "kernelspec": {
      "display_name": "Python 3",
      "language": "python",
      "name": "python3"
    }
  }
}