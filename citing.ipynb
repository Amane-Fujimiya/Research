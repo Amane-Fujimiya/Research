{
  "cells": [
    {
      "cell_type": "markdown",
      "metadata": {},
      "source": [
        "# Citing\n",
        "\n",
        "Well, what is even here to cite? Hopefully in the future."
      ],
      "id": "fd101076-ce58-4813-8d37-514d84279627"
    }
  ],
  "nbformat": 4,
  "nbformat_minor": 5,
  "metadata": {
    "kernelspec": {
      "display_name": "Python 3",
      "language": "python",
      "name": "python3"
    }
  }
}