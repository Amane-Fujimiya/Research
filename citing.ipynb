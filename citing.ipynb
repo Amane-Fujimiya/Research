{
  "cells": [
    {
      "cell_type": "markdown",
      "metadata": {},
      "source": [
        "# Citing\n",
        "\n",
        "Well, what is even here to cite? Hopefully in the future."
      ],
      "id": "0a10bd88-ada9-4736-be6d-eaf197189dbb"
    }
  ],
  "nbformat": 4,
  "nbformat_minor": 5,
  "metadata": {
    "kernelspec": {
      "display_name": "Python 3",
      "language": "python",
      "name": "python3"
    }
  }
}