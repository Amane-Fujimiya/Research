{
  "cells": [
    {
      "cell_type": "markdown",
      "metadata": {},
      "source": [
        "# Citing\n",
        "\n",
        "Well, what is even here to cite? Hopefully in the future."
      ],
      "id": "449ac0eb-d827-4503-b666-9d4732c0f4dd"
    }
  ],
  "nbformat": 4,
  "nbformat_minor": 5,
  "metadata": {
    "kernelspec": {
      "display_name": "Python 3",
      "language": "python",
      "name": "python3"
    }
  }
}