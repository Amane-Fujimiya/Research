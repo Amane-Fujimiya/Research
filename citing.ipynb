{
  "cells": [
    {
      "cell_type": "markdown",
      "metadata": {},
      "source": [
        "# Citing\n",
        "\n",
        "Well, what is even here to cite? Hopefully in the future."
      ],
      "id": "6eb248b1-f02c-47c7-a82c-ec7f6ce06f1b"
    }
  ],
  "nbformat": 4,
  "nbformat_minor": 5,
  "metadata": {
    "kernelspec": {
      "display_name": "Python 3",
      "language": "python",
      "name": "python3"
    }
  }
}