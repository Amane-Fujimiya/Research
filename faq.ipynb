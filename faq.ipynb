{
  "cells": [
    {
      "cell_type": "markdown",
      "metadata": {},
      "source": [
        "# FAQ\n",
        "\n",
        "Are there even anything to say? I mean yes, but yeah, generaly, it is\n",
        "not rigorous enough to warrant a direct affiliation toward what to ask,\n",
        "even."
      ],
      "id": "401a005b-e8cb-4fb5-a012-783581ba4753"
    }
  ],
  "nbformat": 4,
  "nbformat_minor": 5,
  "metadata": {
    "kernelspec": {
      "display_name": "Python 3",
      "language": "python",
      "name": "python3"
    }
  }
}