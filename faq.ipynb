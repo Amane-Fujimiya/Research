{
  "cells": [
    {
      "cell_type": "markdown",
      "metadata": {},
      "source": [
        "# FAQ\n",
        "\n",
        "Are there even anything to say? I mean yes, but yeah, generaly, it is\n",
        "not rigorous enough to warrant a direct affiliation toward what to ask,\n",
        "even."
      ],
      "id": "3a0d0f1f-577c-4c3a-9a3a-5848b2335a2f"
    }
  ],
  "nbformat": 4,
  "nbformat_minor": 5,
  "metadata": {
    "kernelspec": {
      "display_name": "Python 3",
      "language": "python",
      "name": "python3"
    }
  }
}